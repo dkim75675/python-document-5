{
 "cells": [
  {
   "cell_type": "markdown",
   "metadata": {},
   "source": [
    "# Regular Expressions"
   ]
  },
  {
   "cell_type": "markdown",
   "metadata": {},
   "source": [
    "# Tasks today:\n",
    "1) <b>Importing</b> <br>\n",
    "2) <b>Using Regular Expressions</b> <br>\n",
    " &nbsp;&nbsp;&nbsp;&nbsp; a) re.compile() <br>\n",
    " &nbsp;&nbsp;&nbsp;&nbsp; b) re.match() <br>\n",
    " &nbsp;&nbsp;&nbsp;&nbsp; c) re.findall() <br>\n",
    " &nbsp;&nbsp;&nbsp;&nbsp; d) re.search() <br>\n",
    "3) <b>Sets</b> <br>\n",
    " &nbsp;&nbsp;&nbsp;&nbsp; a) Integer Ranges <br>\n",
    " &nbsp;&nbsp;&nbsp;&nbsp; b) Character Ranges <br>\n",
    "4) <b>Counting Occurences</b> <br>\n",
    " &nbsp;&nbsp;&nbsp;&nbsp; a) {x} <br>\n",
    " &nbsp;&nbsp;&nbsp;&nbsp; b) {, x} <br>\n",
    " &nbsp;&nbsp;&nbsp;&nbsp; c) {?} <br>\n",
    " &nbsp;&nbsp;&nbsp;&nbsp; d) {*} <br>\n",
    " &nbsp;&nbsp;&nbsp;&nbsp; e) {+} <br>\n",
    "5) <b>In-Class Exercise #1</b> <br>\n",
    "6) <b>Escaping Characters</b> <br>\n",
    "7) <b>Grouping</b> <br>\n",
    "8) <b>In-Class Exercise #2</b> <br>\n",
    "9) <b>Opening a File</b> <br>\n",
    " &nbsp;&nbsp;&nbsp;&nbsp; a) open() <br>\n",
    " &nbsp;&nbsp;&nbsp;&nbsp; b) with open() <br>\n",
    " &nbsp;&nbsp;&nbsp;&nbsp; c) re.match() <br>\n",
    " &nbsp;&nbsp;&nbsp;&nbsp; d) re.search() <br>\n",
    " &nbsp;&nbsp;&nbsp;&nbsp; e) Store the String in a Variable <br>\n",
    "10) <b>Regex Project</b> <br>"
   ]
  },
  {
   "cell_type": "markdown",
   "metadata": {},
   "source": [
    "### Importing <br>\n",
    "<p>Regular Expressions are universal throughout most programming languages... They are generally imported through the module 're'.</p>"
   ]
  },
  {
   "cell_type": "code",
   "execution_count": 1,
   "metadata": {},
   "outputs": [],
   "source": [
    "# import re\n",
    "import re"
   ]
  },
  {
   "cell_type": "markdown",
   "metadata": {},
   "source": [
    "### Using Regular Expressions <br>\n",
    "<p>Regular expressions give us the ability to search for patterns within text, strings, files, etc. They serve several uses, such as; security measures, searching, filtering, pattern recognition, and more...</p>"
   ]
  },
  {
   "cell_type": "markdown",
   "metadata": {},
   "source": [
    "##### re.compile()"
   ]
  },
  {
   "cell_type": "code",
   "execution_count": 2,
   "metadata": {},
   "outputs": [
    {
     "name": "stdout",
     "output_type": "stream",
     "text": [
      "re.compile('abcd')\n"
     ]
    }
   ],
   "source": [
    "# using compile, pre determines the string to be used in regular expression methods\n",
    "\n",
    "pattern = re.compile('abcd')\n",
    "print(pattern)"
   ]
  },
  {
   "cell_type": "markdown",
   "metadata": {},
   "source": [
    "##### re.match()"
   ]
  },
  {
   "cell_type": "code",
   "execution_count": 6,
   "metadata": {},
   "outputs": [
    {
     "name": "stdout",
     "output_type": "stream",
     "text": [
      "<re.Match object; span=(0, 4), match='abcd'>\n",
      "(0, 4)\n",
      "<class 'tuple'>\n"
     ]
    }
   ],
   "source": [
    "\n",
    "match = pattern.match('abcd123')\n",
    "print(match)\n",
    "\n",
    "# Accessing the span of the match\n",
    "print(match.span())\n",
    "print(type(match.span()))"
   ]
  },
  {
   "cell_type": "markdown",
   "metadata": {},
   "source": [
    "##### re.findall()"
   ]
  },
  {
   "cell_type": "code",
   "execution_count": 8,
   "metadata": {},
   "outputs": [
    {
     "name": "stdout",
     "output_type": "stream",
     "text": [
      "['abcd', 'abcd', 'abcd']\n",
      "Help on function findall in module re:\n",
      "\n",
      "findall(pattern, string, flags=0)\n",
      "    Return a list of all non-overlapping matches in the string.\n",
      "    \n",
      "    If one or more capturing groups are present in the pattern, return\n",
      "    a list of groups; this will be a list of tuples if the pattern\n",
      "    has more than one group.\n",
      "    \n",
      "    Empty matches are included in the result.\n",
      "\n"
     ]
    }
   ],
   "source": [
    "finders = pattern.findall('123abcd abcd123 abcd abcabc acb')\n",
    "print(finders)\n",
    "help(re.findall)"
   ]
  },
  {
   "cell_type": "markdown",
   "metadata": {},
   "source": [
    "##### re.search()"
   ]
  },
  {
   "cell_type": "code",
   "execution_count": 12,
   "metadata": {},
   "outputs": [
    {
     "name": "stdout",
     "output_type": "stream",
     "text": [
      "<re.Match object; span=(12, 16), match='abcd'>\n",
      "(12, 16)\n",
      "abcd\n"
     ]
    }
   ],
   "source": [
    "random_string = '123 123 234 abcd abc'\n",
    "\n",
    "search = pattern.search(random_string)\n",
    "print(search)\n",
    "span = search.span()\n",
    "print(span)\n",
    "print(random_string[span[0] : span[1]])"
   ]
  },
  {
   "cell_type": "markdown",
   "metadata": {},
   "source": [
    "### Sets <br>\n",
    "<p>The following cells will allow you to use regular expressions to search for certain values within a range such as numbers 1 through 4.</p>"
   ]
  },
  {
   "cell_type": "markdown",
   "metadata": {},
   "source": [
    "##### [a-z] or [A-Z] - any lowercase/uppercase letters from a to z<br/>[^2] - anything that's not 2"
   ]
  },
  {
   "cell_type": "markdown",
   "metadata": {},
   "source": [
    "##### Integer Ranges"
   ]
  },
  {
   "cell_type": "code",
   "execution_count": 18,
   "metadata": {},
   "outputs": [
    {
     "name": "stdout",
     "output_type": "stream",
     "text": [
      "<re.Match object; span=(0, 3), match='673'>\n",
      "673\n"
     ]
    }
   ],
   "source": [
    "pattern_int = re.compile('[0-7][7-9][0-3]')\n",
    "\n",
    "random_numbers = pattern_int.search('67383')\n",
    "print(random_numbers)\n",
    "\n",
    "span = random_numbers.span()\n",
    "print(random_numbers[span[0]])"
   ]
  },
  {
   "cell_type": "markdown",
   "metadata": {},
   "source": [
    "##### Character Ranges"
   ]
  },
  {
   "cell_type": "code",
   "execution_count": 19,
   "metadata": {},
   "outputs": [
    {
     "name": "stdout",
     "output_type": "stream",
     "text": [
      "['He', 'Mr', 'An']\n"
     ]
    }
   ],
   "source": [
    "char_pattern = re.compile('[A-Z][a-z]')\n",
    "\n",
    "found  = char_pattern.findall('Hello there Mr. Anderson')\n",
    "print(found)"
   ]
  },
  {
   "cell_type": "markdown",
   "metadata": {},
   "source": [
    "### Counting Occurences"
   ]
  },
  {
   "cell_type": "markdown",
   "metadata": {},
   "source": [
    "##### {x} - something that occurs {num_of_times}"
   ]
  },
  {
   "cell_type": "code",
   "execution_count": 22,
   "metadata": {},
   "outputs": [
    {
     "name": "stdout",
     "output_type": "stream",
     "text": [
      "['An33']\n"
     ]
    }
   ],
   "source": [
    "char_pattern_count = re.compile('[A-Z][a-z][0-3]{2}')\n",
    "\n",
    "found_count = char_pattern_count.findall('Hello Mr.An33derson')\n",
    "print(found_count)"
   ]
  },
  {
   "cell_type": "markdown",
   "metadata": {},
   "source": [
    "##### {x, x} - something that occurs between x and x times"
   ]
  },
  {
   "cell_type": "code",
   "execution_count": 24,
   "metadata": {},
   "outputs": [
    {
     "name": "stdout",
     "output_type": "stream",
     "text": [
      "['m', 'm', 'm', 'mm', 'mmmmm']\n"
     ]
    }
   ],
   "source": [
    "random_pattern = re.compile('m{1,5}')\n",
    "random_statement = random_pattern.findall('This is an example of a regular expression trying to find one m, more than one mm or five mmmmms')\n",
    "print(random_statement)"
   ]
  },
  {
   "cell_type": "markdown",
   "metadata": {},
   "source": [
    "##### ? - something that occurs 0 or 1 time"
   ]
  },
  {
   "cell_type": "code",
   "execution_count": 26,
   "metadata": {},
   "outputs": [
    {
     "name": "stdout",
     "output_type": "stream",
     "text": [
      "['Mrs', 'Mrss']\n"
     ]
    }
   ],
   "source": [
    "pattern = re.compile('Mrss?')\n",
    "\n",
    "found_pat = pattern.findall('Hello M there Mr.Anderson, Mid how is Mrs.Anderson, and Mrss.Anderson?')\n",
    "print(found_pat)"
   ]
  },
  {
   "cell_type": "markdown",
   "metadata": {},
   "source": [
    "##### * - something that occurs at least 0 times"
   ]
  },
  {
   "cell_type": "code",
   "execution_count": 28,
   "metadata": {},
   "outputs": [
    {
     "name": "stdout",
     "output_type": "stream",
     "text": [
      "['MMMs', 's', 'Ms', 's', 's', 'Ms', 's', 's', 's', 's', 's', 's']\n"
     ]
    }
   ],
   "source": [
    "pattern_m = re.compile('M*s')\n",
    "\n",
    "found_m = pattern_m.findall('MMMs name is Ms.Smith. This is Msssssss')\n",
    "print(found_m)"
   ]
  },
  {
   "cell_type": "markdown",
   "metadata": {},
   "source": [
    "##### + - something that occurs at least once"
   ]
  },
  {
   "cell_type": "code",
   "execution_count": 29,
   "metadata": {},
   "outputs": [
    {
     "name": "stdout",
     "output_type": "stream",
     "text": [
      "['MMMs', 'Ms', 'Ms']\n"
     ]
    }
   ],
   "source": [
    "pattern_again = re.compile('M+s')\n",
    "\n",
    "found_patt = pattern_again.findall('MMMs name is Ms.Smith. This is Msssssss')\n",
    "print(found_patt)"
   ]
  },
  {
   "cell_type": "markdown",
   "metadata": {},
   "source": [
    "##### In-class exercise 1: \n",
    "\n",
    "Use a regular expression to find every number in the given string"
   ]
  },
  {
   "cell_type": "code",
   "execution_count": 34,
   "metadata": {},
   "outputs": [
    {
     "name": "stdout",
     "output_type": "stream",
     "text": [
      "['10909090', '1', '2']\n"
     ]
    }
   ],
   "source": [
    "my_string = \"This string has 10909090 numbers, but it is only 1 string. I hope you solve this 2day.\"\n",
    "\n",
    "# output: ['10909090','1','2']\n",
    "\n",
    "string_pattern = re.compile('[0-9]+')\n",
    "found_string_pattern = string_pattern.findall(\"This string has 10909090 numbers, but it is only 1 string. I hope you solve this 2day.\")\n",
    "print(found_string_pattern)\n"
   ]
  },
  {
   "cell_type": "markdown",
   "metadata": {},
   "source": [
    "### Escaping Characters"
   ]
  },
  {
   "cell_type": "markdown",
   "metadata": {},
   "source": [
    "##### \\w - look for any Unicode character<br/>\\W - look for anything that isnt a Unicode character\n",
    "\n",
    "[History on Unicode](http://unicode.org/standard/WhatIsUnicode.html)\n",
    "\n",
    "[More on Unicode Characters](https://en.wikipedia.org/wiki/List_of_Unicode_characters)"
   ]
  },
  {
   "cell_type": "code",
   "execution_count": 36,
   "metadata": {},
   "outputs": [
    {
     "name": "stdout",
     "output_type": "stream",
     "text": [
      "['This', 'is', 'a', 'sentence', 'With', 'exclamation', 'mark', 'at', 'the', 'end']\n",
      "[' ', ' ', ' ', '. ', '., ', ' ', ' ', ' ', ' ', '!']\n"
     ]
    }
   ],
   "source": [
    "pattern_1 = re.compile('[\\w]+')\n",
    "pattern_2 = re.compile('[\\W]+')\n",
    "\n",
    "found_1 = pattern_1.findall('This is a sentence. With, exclamation mark at the end!')\n",
    "found_2 = pattern_2.findall('This is a sentence. With., exclamation mark at the end!')\n",
    "\n",
    "print(found_1)\n",
    "print(found_2)\n"
   ]
  },
  {
   "cell_type": "markdown",
   "metadata": {},
   "source": [
    "##### \\d - look for any digit 0-9<br/>\\D - look for anything that isnt a digit"
   ]
  },
  {
   "cell_type": "code",
   "execution_count": 39,
   "metadata": {},
   "outputs": [
    {
     "name": "stdout",
     "output_type": "stream",
     "text": [
      "['7th', '20da', '27th', '3rd', '1st', '30th']\n"
     ]
    }
   ],
   "source": [
    "pattern_num = re.compile('\\d{1,2}[a-z]{2}')\n",
    "\n",
    "found_date = pattern_num.findall('Today is the 7th, in 20days it will be the 27th. 3rd, 1st,30th')\n",
    "print(found_date)"
   ]
  },
  {
   "cell_type": "markdown",
   "metadata": {},
   "source": [
    "##### \\s - look for any white space<br/>\\S - look for anything that isnt whitespace"
   ]
  },
  {
   "cell_type": "code",
   "execution_count": 41,
   "metadata": {},
   "outputs": [
    {
     "name": "stdout",
     "output_type": "stream",
     "text": [
      "[' ', ' ', ' ', ' ', ' ']\n",
      "['Are', 'you', 'afraid', 'of', 'the', 'dark']\n"
     ]
    }
   ],
   "source": [
    "pattern_no_space = re.compile('\\S[a-z]+')\n",
    "pattern_space = re.compile('\\s+')\n",
    "\n",
    "found_space = pattern_space.findall('Are you afraid of the dark?')\n",
    "print(found_space)\n",
    "\n",
    "found_dark = pattern_no_space.findall('Are you afraid of the dark?')\n",
    "print(found_dark)"
   ]
  },
  {
   "cell_type": "markdown",
   "metadata": {},
   "source": [
    "##### \\b - look for boundaries or edges of a word<br/>\\B - look for anything that isnt a boundary"
   ]
  },
  {
   "cell_type": "code",
   "execution_count": 43,
   "metadata": {},
   "outputs": [
    {
     "name": "stdout",
     "output_type": "stream",
     "text": [
      "[]\n",
      "['TheCodingTemple']\n"
     ]
    }
   ],
   "source": [
    "pattern_bound = re.compile(r'\\bTheCodingTemple\\b')\n",
    "pattern_bound_none = re.compile(r'\\BTheCodingTemple\\B\"')\n",
    "\n",
    "no_found_bound = pattern_bound_none.findall(\"TheCodingTemple\")\n",
    "print(no_found_bound)\n",
    "\n",
    "found_bound = pattern_bound.findall(\"TheCodingTemple\")\n",
    "print(found_bound)"
   ]
  },
  {
   "cell_type": "markdown",
   "metadata": {},
   "source": [
    "### Grouping"
   ]
  },
  {
   "cell_type": "code",
   "execution_count": 50,
   "metadata": {},
   "outputs": [
    {
     "name": "stdout",
     "output_type": "stream",
     "text": [
      "[('Max', 'Smith'), ('Sam', 'Darnold'), ('Lebron', 'James'), ('Michael', 'Jordan'), ('Kevin', 'Durant'), ('Patrick', 'McCormick')]\n",
      "('Max', 'Smith')\n",
      "Not at name\n",
      "('Sam', 'Darnold')\n",
      "('Lebron', 'James')\n",
      "('Michael', 'Jordan')\n",
      "('Kevin', 'Durant')\n",
      "('Patrick', 'McCormick')\n"
     ]
    }
   ],
   "source": [
    "my_string_again = \"Max Smith, aaron rodgers, Sam Darnold,Lebron James, Michael Jordan, Kevin Durant, Patrick McCormick\"\n",
    "\n",
    "\n",
    "# Group of names Regex compiler\n",
    "pattern_name = re.compile('([A-Z][a-zA-Za-z]+) ([A-Z][A-Za-z]+)')\n",
    "\n",
    "found_names = pattern_name.findall(my_string_again)\n",
    "print(found_names)\n",
    "\n",
    "\n",
    "for name in my_string_again.split(','):\n",
    "    match = pattern_name.search(name)\n",
    "    \n",
    "    if match:\n",
    "        print(match.groups(2))\n",
    "    else:\n",
    "        print(\"Not at name\")"
   ]
  },
  {
   "cell_type": "markdown",
   "metadata": {},
   "source": [
    "##### In-class Exercise 2:\n",
    "\n",
    "Write a function using regular expressions to find the domain name in the given email addresses (and return None for the invalid email addresses)<br><b>HINT: Use '|' for either or</b>"
   ]
  },
  {
   "cell_type": "code",
   "execution_count": 10,
   "metadata": {},
   "outputs": [
    {
     "name": "stdout",
     "output_type": "stream",
     "text": [
      "None\n",
      "['pocohontas1776@gmail.com']\n",
      "None\n",
      "['yourfavoriteband@g6.org']\n",
      "None\n"
     ]
    }
   ],
   "source": [
    "my_emails = [\"jordanw@codingtemple.orgcom\", \"pocohontas1776@gmail.com\", \"helloworld@aol..com\",\n",
    "             \"yourfavoriteband@g6.org\", \"@codingtemple.com\"]\n",
    "\n",
    "# You can also use the $ at the end of your compile expression -- this stops the search\n",
    "\n",
    "#.com OR .org => com|org\n",
    "\n",
    "#Expected output:\n",
    "#None\n",
    "#pocohontas1776@gmail.com\n",
    "#None\n",
    "#yourfavoriteband@g6.org\n",
    "#None\n",
    "\n",
    "import re\n",
    "\n",
    "search_email = re.compile('([a-z0-9]+@gmail.com|[a-z]+@g6.org)+')\n",
    "\n",
    "for i in my_emails:\n",
    "    found_email = search_email.findall(i)\n",
    "    \n",
    "    if found_email:\n",
    "        print(found_email)\n",
    "    else: \n",
    "        print(None)\n"
   ]
  },
  {
   "cell_type": "markdown",
   "metadata": {},
   "source": [
    "### Opening a File <br>\n",
    "<p>Python gives us a couple ways to import files, below are the two used most often.</p>"
   ]
  },
  {
   "cell_type": "markdown",
   "metadata": {},
   "source": [
    "##### open()"
   ]
  },
  {
   "cell_type": "code",
   "execution_count": 56,
   "metadata": {},
   "outputs": [
    {
     "name": "stdout",
     "output_type": "stream",
     "text": [
      "ï»¿Hawkins, Derek        derek@codingtemple.com        (555) 555-5555        Teacher, Coding Temple        @derekhawkins\n",
      "Zhai, Mo        mozhai@codingtemple.com        (555) 555-5554        Teacher, Coding Temple\n",
      "Johnson, Joe        joejohnson@codingtemple.com                Johson, Joe\n",
      "Osterberg, Sven-Erik        governor@norrbotten.co.se                Governor, Norrbotten        @sverik\n",
      ", Tim        tim@killerrabbit.com                Enchanter, Killer Rabbit Cave\n",
      "Butz, Ryan        ryanb@codingtemple.com        (555) 555-5543        CEO, Coding Temple        @ryanbutz\n",
      "Doctor, The        doctor+companion@tardis.co.uk                Time Lord, Gallifrey\n",
      "Exampleson, Example        me@example.com        555-555-5552        Example, Example Co.        @example\n",
      "Pael, Ripal        ripalp@codingtemple.com        (555) 555-5553        Teacher, Coding Temple        @ripalp\n",
      "Vader, Darth        darth-vader@empire.gov        (555) 555-4444        Sith Lord, Galactic Empire        @darthvader\n",
      "Fernandez de la Vega Sanz, Maria Teresa        mtfvs@spain.gov                First Deputy Prime Minister, Spanish Gov\n"
     ]
    }
   ],
   "source": [
    "f = open(\"names.txt\")\n",
    "\n",
    "data = f.read()\n",
    "\n",
    "print(data)\n"
   ]
  },
  {
   "cell_type": "markdown",
   "metadata": {},
   "source": [
    "##### with open()"
   ]
  },
  {
   "cell_type": "code",
   "execution_count": 55,
   "metadata": {},
   "outputs": [
    {
     "name": "stdout",
     "output_type": "stream",
     "text": [
      "ï»¿Hawkins, Derek        derek@codingtemple.com        (555) 555-5555        Teacher, Coding Temple        @derekhawkins\n",
      "Zhai, Mo        mozhai@codingtemple.com        (555) 555-5554        Teacher, Coding Temple\n",
      "Johnson, Joe        joejohnson@codingtemple.com                Johson, Joe\n",
      "Osterberg, Sven-Erik        governor@norrbotten.co.se                Governor, Norrbotten        @sverik\n",
      ", Tim        tim@killerrabbit.com                Enchanter, Killer Rabbit Cave\n",
      "Butz, Ryan        ryanb@codingtemple.com        (555) 555-5543        CEO, Coding Temple        @ryanbutz\n",
      "Doctor, The        doctor+companion@tardis.co.uk                Time Lord, Gallifrey\n",
      "Exampleson, Example        me@example.com        555-555-5552        Example, Example Co.        @example\n",
      "Pael, Ripal        ripalp@codingtemple.com        (555) 555-5553        Teacher, Coding Temple        @ripalp\n",
      "Vader, Darth        darth-vader@empire.gov        (555) 555-4444        Sith Lord, Galactic Empire        @darthvader\n",
      "Fernandez de la Vega Sanz, Maria Teresa        mtfvs@spain.gov                First Deputy Prime Minister, Spanish Gov\n"
     ]
    }
   ],
   "source": [
    "with open('names.txt') as f:\n",
    "    data = f.read()\n",
    "    print(data)"
   ]
  },
  {
   "cell_type": "markdown",
   "metadata": {},
   "source": [
    "##### re.match()"
   ]
  },
  {
   "cell_type": "code",
   "execution_count": 63,
   "metadata": {},
   "outputs": [
    {
     "name": "stdout",
     "output_type": "stream",
     "text": [
      "None\n"
     ]
    }
   ],
   "source": [
    "print(re.match(r\"Hawkins, Derek\", data))"
   ]
  },
  {
   "cell_type": "markdown",
   "metadata": {},
   "source": [
    "##### re.search()"
   ]
  },
  {
   "cell_type": "code",
   "execution_count": 62,
   "metadata": {},
   "outputs": [
    {
     "name": "stdout",
     "output_type": "stream",
     "text": [
      "<re.Match object; span=(788, 811), match='ripalp@codingtemple.com'>\n"
     ]
    }
   ],
   "source": [
    "print(re.search(r\"ripalp@codingtemple.com\", data))"
   ]
  },
  {
   "cell_type": "markdown",
   "metadata": {},
   "source": [
    "##### Store the String to a Variable"
   ]
  },
  {
   "cell_type": "code",
   "execution_count": 65,
   "metadata": {},
   "outputs": [
    {
     "name": "stdout",
     "output_type": "stream",
     "text": [
      "What would you like to search for? applesauce\n",
      "Nothing here\n"
     ]
    }
   ],
   "source": [
    "answer = input(\"What would you like to search for? \")\n",
    "\n",
    "found = re.findall(answer, data)\n",
    "\n",
    "if found:\n",
    "    print(f\"I found your data: {found}\")\n",
    "else:\n",
    "    print(\"Nothing here\")"
   ]
  },
  {
   "cell_type": "markdown",
   "metadata": {},
   "source": [
    "### In-Class Exercise #3 <br>\n",
    "<p>Print each persons name and twitter handle, using groups, should look like:</p>\n",
    "<p>==============<br>\n",
    "   Full Name / Twitter<br>\n",
    "   ==============</p>\n",
    "Derek Hawkins / @derekhawkins\n",
    "\n",
    " Erik Sven-Osterberg / @sverik\n",
    "\n",
    " Ryan Butz / @ryanbutz\n",
    "\n",
    " Example Exampleson / @example\n",
    "\n",
    " Ripal Pael / @ripalp\n",
    "\n",
    " Darth Vader / @darthvader"
   ]
  },
  {
   "cell_type": "code",
   "execution_count": 3,
   "metadata": {
    "scrolled": true
   },
   "outputs": [
    {
     "name": "stdout",
     "output_type": "stream",
     "text": [
      "Derek Hawkins/@derekhawkins\n",
      "Erik Sven-Osterberg/@sverik\n",
      "Ryan Butz/@ryanbutz\n",
      "Example Exampleson/@example\n",
      "Ripal Pael/@ripalp\n",
      "Darth Vader/@darthvader\n"
     ]
    }
   ],
   "source": [
    "# hint use .group()\n",
    "\n",
    "import re \n",
    "\n",
    "names = ['Derek Hawkins', 'Erik Sven-Osterberg', 'Ryan Butz', 'Example Exampleson', 'Ripal Pael', 'Darth Vader']\n",
    "twitter = [ '@derekhawkins', '@sverik', '@ryanbutz', '@example', '@ripalp', '@darthvader']\n",
    "\n",
    "search_names = re.compile('[A-Za-zA-Za]+')\n",
    "search_twitter = re.compile('@[a-z]+')\n",
    "\n",
    "for (i, j) in zip(names, twitter):\n",
    "        found_names = search_names.findall(i)\n",
    "        found_twitter = search_twitter.findall(j)\n",
    "        print(i + '/' + j)\n"
   ]
  },
  {
   "cell_type": "markdown",
   "metadata": {},
   "source": [
    "### Regex project\n",
    "\n",
    "Use python to read the file regex_test.txt and print the last name on each line using regular expressions and groups (return None for names with no first and last name, or names that aren't properly capitalized)\n",
    "##### Hint: use with open() and readlines()"
   ]
  },
  {
   "cell_type": "code",
   "execution_count": null,
   "metadata": {},
   "outputs": [],
   "source": [
    "\"\"\"\n",
    "Expected Output\n",
    "Abraham Lincoln\n",
    "Andrew P Garfield\n",
    "Connor Milliken\n",
    "Jordan Alexander Williams\n",
    "None\n",
    "None\n",
    "\"\"\""
   ]
  },
  {
   "cell_type": "code",
   "execution_count": 26,
   "metadata": {
    "scrolled": true
   },
   "outputs": [
    {
     "name": "stdout",
     "output_type": "stream",
     "text": [
      "ï»¿Abraham Lincoln\n",
      "\n",
      "Andrew P Garfield\n",
      "\n",
      "Connor Milliken\n",
      "\n",
      "Jordan Alexander Williams\n",
      "\n",
      "None\n",
      "None\n"
     ]
    }
   ],
   "source": [
    "import re\n",
    "\n",
    "f = open(\"regex_test.txt\")\n",
    "data = f.readlines()\n",
    "\n",
    "data_compile = re.compile('([A-Z][a-z]+) ([A-Za-z])+')\n",
    "\n",
    "for i in data:\n",
    "    found_data = data_compile.findall(i)\n",
    "    \n",
    "    if found_data:\n",
    "        print(i)\n",
    "    else:\n",
    "        print(None)\n",
    "    "
   ]
  },
  {
   "cell_type": "code",
   "execution_count": null,
   "metadata": {},
   "outputs": [],
   "source": []
  }
 ],
 "metadata": {
  "kernelspec": {
   "display_name": "Python 3 (ipykernel)",
   "language": "python",
   "name": "python3"
  },
  "language_info": {
   "codemirror_mode": {
    "name": "ipython",
    "version": 3
   },
   "file_extension": ".py",
   "mimetype": "text/x-python",
   "name": "python",
   "nbconvert_exporter": "python",
   "pygments_lexer": "ipython3",
   "version": "3.9.13"
  }
 },
 "nbformat": 4,
 "nbformat_minor": 2
}
